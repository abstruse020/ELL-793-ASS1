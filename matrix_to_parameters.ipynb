{
 "cells": [
  {
   "cell_type": "code",
   "execution_count": 1,
   "metadata": {
    "colab": {
     "base_uri": "https://localhost:8080/"
    },
    "id": "OmAUpC0M77XP",
    "outputId": "db74dd0f-7594-4716-d768-3cd4de9bac8c"
   },
   "outputs": [
    {
     "name": "stdout",
     "output_type": "stream",
     "text": [
      "468.164671277965\n",
      "the difference between the  centre of camera coordinate frame and the image center along the x axis 300.0000163077135\n",
      "the difference between the  centre of camera coordinate frame and the image center along the y axis 199.9998541201699\n",
      "intrinsic camera matrix [[468.16467128  91.22505222 300.00001631]\n",
      " [  0.         427.20086371 199.99985412]\n",
      " [  0.           0.           0.99999975]]\n",
      "Translation matrix  [-2302.72199352 -1050.57907454  -918.5592298 ]\n",
      "Rotation matrix [[ 0.41380237  0.90914861  0.04707869]\n",
      " [-0.57338211  0.22011137  0.78916661]\n",
      " [ 0.70710718 -0.35355309  0.61237215]]\n",
      "camera focal length in the x axis in pixels 468.164671277965\n",
      "camera focal length in the y axis in pixels 427.20086370974354\n",
      "skew parameter 91.22505222013655\n",
      "The angle between the x-axis and y-axis in the image plane -1.37835104334233\n"
     ]
    }
   ],
   "source": [
    "import numpy as np\n",
    "import scipy.linalg\n",
    "import mpmath\n",
    "\n",
    "P = np.array([[3.53553e+2,  3.39645e+2, 2.77744e+2, -1.44946e+6],\n",
    "              [-1.03528e+2, 2.33212e+1, 4.59607e+2, -6.3252e+5],\n",
    "              [7.07107e-1, -3.53553e-1, 6.12372e-1, -9.18559e+2]])\n",
    "\n",
    "def matrix_to_parameters( P):\n",
    "    M = P[:,0:3]\n",
    "    \n",
    "    K,R = scipy.linalg.rq(M)\n",
    "    \n",
    "    T = np.diag(np.sign(np.diag(K)))\n",
    "    \n",
    "    if scipy.linalg.det(T) < 0:\n",
    "        T[1,1] *= -1\n",
    "    \n",
    "    K = np.dot(K,T)\n",
    "    R = np.dot(T,R)\n",
    "    \n",
    "    C = np.dot(scipy.linalg.inv(-M),P[:,3])\n",
    "    \n",
    "    alpha=K[0][0]\n",
    "    x0=K[0][2]\n",
    "    y0=K[1][2]\n",
    "    tan_theta=K[0][0]/(-K[0][1])\n",
    "    theta=mpmath.atan(tan_theta)\n",
    "    print(alpha)\n",
    "    print(\"the difference between the  centre of camera coordinate frame and the image center along the x axis\",x0)\n",
    "    print(\"the difference between the  centre of camera coordinate frame and the image center along the y axis\",y0)\n",
    "  \n",
    "    sin_theta=mpmath.sin(theta)\n",
    "    beta=K[1][1]*sin_theta\n",
    "  \n",
    "    T=-(np.dot(R,C))\n",
    "    fx=K[0][0]\n",
    "    fy=K[1][1]\n",
    "    s=K[0][1]\n",
    "    print(\"intrinsic camera matrix\",K)\n",
    "    print(\"Translation matrix \",T)\n",
    "    print(\"Rotation matrix\",R)\n",
    "  \n",
    "    print(\"camera focal length in the x axis in pixels\",fx)\n",
    "    print(\"camera focal length in the y axis in pixels\",fy)\n",
    "    print(\"skew parameter\",s)\n",
    "    print(\"The angle between the x-axis and y-axis in the image plane\",theta)\n",
    "\n",
    "\n",
    "   \n",
    "\n",
    "\n",
    "matrix_to_parameters(P)\n",
    "\n"
   ]
  },
  {
   "cell_type": "code",
   "execution_count": null,
   "metadata": {
    "id": "iNFEC98J-3N2"
   },
   "outputs": [],
   "source": []
  }
 ],
 "metadata": {
  "colab": {
   "name": "matrix_to_parameters.ipynb",
   "provenance": []
  },
  "kernelspec": {
   "display_name": "Python 3",
   "language": "python",
   "name": "python3"
  },
  "language_info": {
   "codemirror_mode": {
    "name": "ipython",
    "version": 3
   },
   "file_extension": ".py",
   "mimetype": "text/x-python",
   "name": "python",
   "nbconvert_exporter": "python",
   "pygments_lexer": "ipython3",
   "version": "3.8.8"
  }
 },
 "nbformat": 4,
 "nbformat_minor": 4
}
